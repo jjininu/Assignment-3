{
  "nbformat": 4,
  "nbformat_minor": 0,
  "metadata": {
    "colab": {
      "name": "Copy of Assignment_3",
      "provenance": []
    },
    "kernelspec": {
      "name": "python3",
      "display_name": "Python 3"
    },
    "language_info": {
      "name": "python"
    }
  },
  "cells": [
    {
      "cell_type": "markdown",
      "source": [
        "1. Why are functions advantageous to have in your programs?"
      ],
      "metadata": {
        "id": "GbAfe99ZKOg7"
      }
    },
    {
      "cell_type": "markdown",
      "source": [
        "Functions are block of codes that are defined under Def key word. The advantage of function is we can use these block of codes over and over without writing the whole code, by just callinf the function that is already defined."
      ],
      "metadata": {
        "id": "AyFUwe5eKSfJ"
      }
    },
    {
      "cell_type": "markdown",
      "source": [
        "2. When does the code in a function run: when it&#39;s specified or when it&#39;s called?"
      ],
      "metadata": {
        "id": "uh64Q_8iK2ox"
      }
    },
    {
      "cell_type": "markdown",
      "source": [
        "The function will run when it called with its required attributes."
      ],
      "metadata": {
        "id": "7Ot6C6aWLBgt"
      }
    },
    {
      "cell_type": "markdown",
      "source": [
        "3 .What statement creates a function?"
      ],
      "metadata": {
        "id": "0L2-Zcp5Npar"
      }
    },
    {
      "cell_type": "markdown",
      "source": [
        "The key word Def will creates a function."
      ],
      "metadata": {
        "id": "vqIpqtzxNwCx"
      }
    },
    {
      "cell_type": "markdown",
      "source": [
        "4. What is the difference between a function and a function call?"
      ],
      "metadata": {
        "id": "HEf31f8NP-Sx"
      }
    },
    {
      "cell_type": "markdown",
      "source": [
        "A function call means invoking or calling that function. Unless a function is called there is no use of that function.So the difference between the function and function call is, A function is procedure to achieve a particular result while function call is using this function to achive that task."
      ],
      "metadata": {
        "id": "s75z2_4wPuqN"
      }
    },
    {
      "cell_type": "markdown",
      "source": [
        "5. How many global scopes are there in a Python program? How many local scopes?"
      ],
      "metadata": {
        "id": "kAF4G9wKQKLx"
      }
    },
    {
      "cell_type": "markdown",
      "source": [
        "There are 4 types of scopes in python Global which we can access any where, local scope whicg is specific to a function, build in scope and Enclosing scope. There is only one Global scope."
      ],
      "metadata": {
        "id": "Pi3rq7YpSVeB"
      }
    },
    {
      "cell_type": "markdown",
      "source": [
        "6. What happens to variables in a local scope when the function call returns?"
      ],
      "metadata": {
        "id": "QJ9BKCCyTByS"
      }
    },
    {
      "cell_type": "markdown",
      "source": [
        "Local variables that are persent in a function will be destroyed once the function terminates."
      ],
      "metadata": {
        "id": "SugIRlseTYHa"
      }
    },
    {
      "cell_type": "markdown",
      "source": [
        "7. What is the concept of a return value? Is it possible to have a return value in an expression?"
      ],
      "metadata": {
        "id": "7HBiFsF8vEEZ"
      }
    },
    {
      "cell_type": "markdown",
      "source": [
        "A return statement is used to end the execution of the function call and “returns” the result (value of the expression following the return keyword) to the caller.Yes we can have a return value since it has a proper data type unlike print.\n"
      ],
      "metadata": {
        "id": "dT2koOCTwtAY"
      }
    },
    {
      "cell_type": "markdown",
      "source": [
        "8. If a function does not have a return statement, what is the return value of a call to that function?"
      ],
      "metadata": {
        "id": "Ax5xOMenxATS"
      }
    },
    {
      "cell_type": "markdown",
      "source": [
        "It will return a special value None.\n"
      ],
      "metadata": {
        "id": "kGdUxOaLxMec"
      }
    },
    {
      "cell_type": "markdown",
      "source": [
        "9. How do you make a function variable refer to the global variable?"
      ],
      "metadata": {
        "id": "rpPthZIQxZ2j"
      }
    },
    {
      "cell_type": "markdown",
      "source": [
        "In a function we can make a variable a global one by usuing a key word called Global.This will declier the valrial as  a global variable."
      ],
      "metadata": {
        "id": "ZzEx04vExbo7"
      }
    },
    {
      "cell_type": "markdown",
      "source": [
        "10. What is the data type of None?"
      ],
      "metadata": {
        "id": "SSp6qGGMx9LH"
      }
    },
    {
      "cell_type": "markdown",
      "source": [
        "The data type for value none is none type."
      ],
      "metadata": {
        "id": "WXWls4jAyCQl"
      }
    },
    {
      "cell_type": "markdown",
      "source": [
        "12. If you had a bacon() feature in a spam module, what would you call it after importing spam?"
      ],
      "metadata": {
        "id": "orOqsNKjyRC1"
      }
    },
    {
      "cell_type": "markdown",
      "source": [
        "I can call it spam.bacon()"
      ],
      "metadata": {
        "id": "KR3cofyhzHJT"
      }
    },
    {
      "cell_type": "markdown",
      "source": [
        "13. What can you do to save a programme from crashing if it encounters an error?"
      ],
      "metadata": {
        "id": "Hy6NeS3EzNpX"
      }
    },
    {
      "cell_type": "markdown",
      "source": [
        "We can write the code in such a way that if the block of code faild come across am error it will go to another block of code  that can be an alternate way of returning a same error or return  massage of some kind."
      ],
      "metadata": {
        "id": "eHmq8emSzPMH"
      }
    },
    {
      "cell_type": "markdown",
      "source": [
        "14. What is the purpose of the try clause? What is the purpose of the except clause?"
      ],
      "metadata": {
        "id": "g3mOjSJiz3CE"
      }
    },
    {
      "cell_type": "markdown",
      "source": [
        "The try block is used to check some code for errors i.e the code inside the try block will execute when there is no error in the program. Whereas the code inside the except block will execute whenever the program encounters some error in the preceding try block. "
      ],
      "metadata": {
        "id": "pHWpeEXU0Me3"
      }
    },
    {
      "cell_type": "code",
      "source": [
        ""
      ],
      "metadata": {
        "id": "Xs9RE5bEzFrw"
      },
      "execution_count": null,
      "outputs": []
    }
  ]
}